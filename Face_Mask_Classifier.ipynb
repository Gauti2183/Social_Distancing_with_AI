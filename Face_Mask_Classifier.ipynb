{
  "nbformat": 4,
  "nbformat_minor": 0,
  "metadata": {
    "colab": {
      "name": "Face_Mask_Classifier.ipynb",
      "provenance": [],
      "collapsed_sections": []
    },
    "kernelspec": {
      "name": "python3",
      "display_name": "Python 3"
    }
  },
  "cells": [
    {
      "cell_type": "code",
      "metadata": {
        "id": "rETrWaAeu4iv",
        "colab_type": "code",
        "colab": {}
      },
      "source": [
        "# Mount Google Drive (If using Colab)\n",
        "\n",
        "from google.colab import drive\n",
        "drive.mount(\"drive\")"
      ],
      "execution_count": null,
      "outputs": []
    },
    {
      "cell_type": "code",
      "metadata": {
        "id": "aokSHhLh4I4T",
        "colab_type": "code",
        "colab": {}
      },
      "source": [
        "# Install Required Libraries from PyPI\n",
        "\n",
        "!pip install face-detection\n",
        "!pip install tqdm"
      ],
      "execution_count": null,
      "outputs": []
    },
    {
      "cell_type": "code",
      "metadata": {
        "id": "K4hzxFx9p0K_",
        "colab_type": "code",
        "colab": {}
      },
      "source": [
        "# Import Required Libraries\n",
        "\n",
        "import os\n",
        "import numpy as np\n",
        "import cv2\n",
        "import face_detection\n",
        "from keras.applications import resnet50\n",
        "from keras.models import Model\n",
        "from keras.layers import Dense,Dropout,AveragePooling2D,Flatten\n",
        "from keras.optimizers import Adam\n",
        "from keras.preprocessing.image import ImageDataGenerator\n",
        "import tqdm"
      ],
      "execution_count": 3,
      "outputs": []
    },
    {
      "cell_type": "code",
      "metadata": {
        "id": "WGwCQt_yPs5b",
        "colab_type": "code",
        "colab": {}
      },
      "source": [
        "# Initialize a Face Detector \n",
        "# Confidence Threshold can be Adjusted, Greater values would Detect only Clear Faces\n",
        "\n",
        "detector = face_detection.build_detector(\"DSFDDetector\", confidence_threshold=.5, nms_iou_threshold=.3)"
      ],
      "execution_count": null,
      "outputs": []
    },
    {
      "cell_type": "code",
      "metadata": {
        "id": "WCJEPPGfqK29",
        "colab_type": "code",
        "colab": {}
      },
      "source": [
        "# Load Pretrained ResNet50 Model (without Last few Layers) \n",
        "# Freeze all the Layers\n",
        "\n",
        "base_network  = resnet50.ResNet50(input_shape = (224,224,3),weights='imagenet',include_top=False)\n",
        "for layer in base_network.layers:\n",
        "  layer.trainaibale = False"
      ],
      "execution_count": null,
      "outputs": []
    },
    {
      "cell_type": "code",
      "metadata": {
        "id": "wSwzjQedqQsr",
        "colab_type": "code",
        "colab": {}
      },
      "source": [
        "# Define the Face Mask Classifier Model by adding a few Layers on top of the ResNet50 Pretrained Model\n",
        "\n",
        "classifier_network = base_network.output\n",
        "classifier_network = AveragePooling2D(pool_size=(7, 7),name = \"Average_Pool_Final\")(classifier_network)\n",
        "classifier_network = Flatten(name = \"Flatten_Final\")(classifier_network)\n",
        "classifier_network = Dense(128, activation=\"relu\",name = \"Dense_Final\")(classifier_network)\n",
        "classifier_network = Dropout(0.5,name = \"Dropout_Final\")(classifier_network)\n",
        "classifier_network = Dense(1, activation=\"sigmoid\", name = \"Sigmoid_Classifier\" )(classifier_network)\n",
        "\n",
        "mask_classifier = Model(inputs=base_network.input, outputs=classifier_network)"
      ],
      "execution_count": 6,
      "outputs": []
    },
    {
      "cell_type": "code",
      "metadata": {
        "id": "uTalRyPrNk1w",
        "colab_type": "code",
        "colab": {}
      },
      "source": [
        "# Set Path to the Dataset\n",
        "# Faces would be extracted and placed in the specified Directory after Processing\n",
        "\n",
        "Dataset_PATH = \"drive/My Drive/Social_Distancing_with_AI/YO\"\n",
        "Processed_Dataset_PATH = \"drive/My Drive/Social_Distancing_with_AI/Processed_Training_Data\"\n",
        "\n",
        "# Create Empty Directories\n",
        "os.mkdir(Processed_Dataset_PATH)\n",
        "os.mkdir(os.path.join(Processed_Dataset_PATH,\"with_mask\"))\n",
        "os.mkdir(os.path.join(Processed_Dataset_PATH,\"without_mask\"))"
      ],
      "execution_count": null,
      "outputs": []
    },
    {
      "cell_type": "code",
      "metadata": {
        "id": "6ZJlEg8y4Q_2",
        "colab_type": "code",
        "colab": {}
      },
      "source": [
        "# Prepare the Data for Training \n",
        "# Extract Faces from the Dataset and Save them in the specified Directory\n",
        "\n",
        "# There should be 2 Sub-Directories corresponding to Masked and Non-Masked Images\n",
        "paths = [\"with_mask\",\"without_mask\"]\n",
        "\n",
        "loaded = 0 \n",
        "\n",
        "for path in paths:\n",
        "\n",
        "  curr_path = os.path.join(Dataset_PATH,path)\n",
        "  \n",
        "  for file_name in tqdm.notebook.tqdm(os.listdir(curr_path)):\n",
        "\n",
        "    try:\n",
        "      \n",
        "      image = cv2.imread(os.path.join(curr_path,file_name))\n",
        "\n",
        "      # Detect Faces, Crop and Save\n",
        "      detections = detector.detect(image[:,:,::-1])\n",
        "\n",
        "      for j in range(len(detections)):\n",
        "    \n",
        "        face = image[int(detections[j][1]):int(detections[j][3]),\n",
        "                     int(detections[j][0]):int(detections[j][2])]\n",
        "        \n",
        "        cv2.imwrite(os.path.join(Processed_Dataset_PATH,path)+\"/\"+file_name,face)\n",
        "\n",
        "        # Count Total Faces Loaded \n",
        "        loaded+=1\n",
        "    \n",
        "    except:\n",
        "      continue"
      ],
      "execution_count": null,
      "outputs": []
    },
    {
      "cell_type": "code",
      "metadata": {
        "id": "ezSSJGkwMrbo",
        "colab_type": "code",
        "colab": {}
      },
      "source": [
        "# Set the Hyper-Parameters\n",
        "\n",
        "alpha = 0.00005\n",
        "n_epochs = 5\n",
        "mini_batch_size = 128"
      ],
      "execution_count": 8,
      "outputs": []
    },
    {
      "cell_type": "code",
      "metadata": {
        "id": "x9SxYvmKNQMY",
        "colab_type": "code",
        "colab": {}
      },
      "source": [
        "# Compile the Model\n",
        "\n",
        "opt = Adam(learning_rate=alpha,decay = alpha/n_epochs)\n",
        "mask_classifier.compile(optimizer=opt,loss=\"binary_crossentropy\",metrics = ['accuracy'])"
      ],
      "execution_count": 9,
      "outputs": []
    },
    {
      "cell_type": "code",
      "metadata": {
        "id": "UI9CuRrNJbcF",
        "colab_type": "code",
        "colab": {}
      },
      "source": [
        "# Define a ImageDataGenerator for Real-Time Data Augmentation\n",
        "# Parameters can be Tuned for controlling the Augmentation\n",
        "\n",
        "Data_Generator = ImageDataGenerator(horizontal_flip=True,\n",
        "                                    rotation_range=25,\n",
        "                                    preprocessing_function=resnet50.preprocess_input)"
      ],
      "execution_count": 10,
      "outputs": []
    },
    {
      "cell_type": "code",
      "metadata": {
        "id": "jdHpqCnqKXQb",
        "colab_type": "code",
        "colab": {}
      },
      "source": [
        "# Create a Data_Generator Instance\n",
        "\n",
        "Train_Data_Generator = Data_Generator.flow_from_directory(Processed_Dataset_PATH,target_size=(224,224),\n",
        "                                                          class_mode=\"binary\",batch_size=mini_batch_size)"
      ],
      "execution_count": null,
      "outputs": []
    },
    {
      "cell_type": "code",
      "metadata": {
        "id": "OS6tgzXlLKgO",
        "colab_type": "code",
        "colab": {}
      },
      "source": [
        "# Train the Model\n",
        "\n",
        "mask_classifier.fit(x=Train_Data_Generator,steps_per_epoch=loaded/mini_batch_size,epochs=n_epochs)"
      ],
      "execution_count": null,
      "outputs": []
    },
    {
      "cell_type": "code",
      "metadata": {
        "id": "wcZoAtsiMzDX",
        "colab_type": "code",
        "colab": {}
      },
      "source": [
        "# Save the Trained Weights to Disk\n",
        "\n",
        "mask_classifier.save(\"drive/My Drive/Social_Distancing_with_AI/ResNet50_Classifier.h5\")"
      ],
      "execution_count": null,
      "outputs": []
    }
  ]
}
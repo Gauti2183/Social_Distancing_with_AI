{
  "nbformat": 4,
  "nbformat_minor": 0,
  "metadata": {
    "colab": {
      "name": "Face_Mask_Classifier.ipynb",
      "provenance": [],
      "collapsed_sections": []
    },
    "kernelspec": {
      "name": "python3",
      "display_name": "Python 3"
    }
  },
  "cells": [
    {
      "cell_type": "code",
      "metadata": {
        "id": "rETrWaAeu4iv",
        "colab_type": "code",
        "colab": {}
      },
      "source": [
        "# Mount Google Drive (If using Colab)\n",
        "\n",
        "from google.colab import drive\n",
        "drive.mount(\"drive\")"
      ],
      "execution_count": 0,
      "outputs": []
    },
    {
      "cell_type": "code",
      "metadata": {
        "id": "aokSHhLh4I4T",
        "colab_type": "code",
        "colab": {}
      },
      "source": [
        "# Install required Packages from PyPI\n",
        "\n",
        "!pip install face-detection"
      ],
      "execution_count": 0,
      "outputs": []
    },
    {
      "cell_type": "code",
      "metadata": {
        "id": "K4hzxFx9p0K_",
        "colab_type": "code",
        "colab": {}
      },
      "source": [
        "# Import Required Packages\n",
        "\n",
        "import os\n",
        "import numpy as np\n",
        "import cv2\n",
        "from keras.applications import resnet50\n",
        "from keras.models import Model\n",
        "from keras.layers import Dense,Dropout,AveragePooling2D,Flatten,Adam\n",
        "from keras.preprocessing.image import load_img,img_to_array\n",
        "from sklearn.model_selection import train_test_split"
      ],
      "execution_count": 0,
      "outputs": []
    },
    {
      "cell_type": "code",
      "metadata": {
        "id": "WGwCQt_yPs5b",
        "colab_type": "code",
        "colab": {}
      },
      "source": [
        "# Initialize a Face Detector (Confidence Threshold can be adjusted to detect more Clear Faces)\n",
        "\n",
        "detector = face_detection.build_detector(\"DSFDDetector\", confidence_threshold=.5, nms_iou_threshold=.3)"
      ],
      "execution_count": 0,
      "outputs": []
    },
    {
      "cell_type": "code",
      "metadata": {
        "id": "WCJEPPGfqK29",
        "colab_type": "code",
        "colab": {}
      },
      "source": [
        "# Load Pretrained ResNet50 Model without Last few Layers and Freeze them\n",
        "\n",
        "base_network  = resnet50.ResNet50(input_shape = (224,224,3),weights='imagenet',include_top=False)\n",
        "for layer in base_network.layers:\n",
        "  layer.trainaibale = False"
      ],
      "execution_count": 0,
      "outputs": []
    },
    {
      "cell_type": "code",
      "metadata": {
        "id": "wSwzjQedqQsr",
        "colab_type": "code",
        "colab": {}
      },
      "source": [
        "# Define the Face Mask Classifier Model by adding a few Layers on top of the ResNet50 Pretrained Model\n",
        "\n",
        "classifier_network = base_network.output\n",
        "classifier_network = AveragePooling2D(pool_size=(7, 7),name = \"Average_Pool_Final\")(classifier_network)\n",
        "classifier_network = Flatten(name = \"Flatten_Final\")(classifier_network)\n",
        "classifier_network = Dense(128, activation=\"relu\",name = \"Dense_Final\")(classifier_network)\n",
        "classifier_network = Dropout(0.5,name = \"Dropout_Final\")(classifier_network)\n",
        "classifier_network = Dense(1, activation=\"sigmoid\", name = \"Sigmoid_Classifier\" )(classifier_network)\n",
        "\n",
        "mask_classifier = Model(inputs=base_network.input, outputs=classifier_network)"
      ],
      "execution_count": 0,
      "outputs": []
    },
    {
      "cell_type": "code",
      "metadata": {
        "id": "uTalRyPrNk1w",
        "colab_type": "code",
        "colab": {}
      },
      "source": [
        "# Set Paths to the Datasets (Masked and Unmasked Faces)\n",
        "\n",
        "Masked_Path = \"drive/My Drive/Social_Distancing_with_AI/Training_Data/with_mask\"\n",
        "UnMasked_Path = \"drive/My Drive/Social_Distancing_with_AI/Training_Data/without_mask\""
      ],
      "execution_count": 0,
      "outputs": []
    },
    {
      "cell_type": "code",
      "metadata": {
        "id": "6ZJlEg8y4Q_2",
        "colab_type": "code",
        "colab": {}
      },
      "source": [
        "# Load and Prepare the Data for Training \n",
        "\n",
        "faces = []\n",
        "labels = []\n",
        "\n",
        "paths = [Masked_Path,UnMasked_Path]\n",
        "\n",
        "loaded = 0 \n",
        "\n",
        "for i in range(2):\n",
        "\n",
        "  for file_name in os.listdir(paths[i]):\n",
        "\n",
        "    try:\n",
        "      \n",
        "      image = cv2.imread(os.path.join(paths[i],file_name))\n",
        "\n",
        "      detections = detector.detect(image[:,:,::-1])\n",
        "\n",
        "      for j in range(len(detections)):\n",
        "    \n",
        "        face = image[int(detections[j][1]):int(detections[j][3]),\n",
        "                     int(detections[j][0]):int(detections[j][2]),::-1]\n",
        "        face = cv2.resize(face, (224, 224), interpolation=cv2.INTER_NEAREST)\n",
        "        face = resnet50.preprocess_input(face)\n",
        "        faces.append(face)\n",
        "        labels.append(i)\n",
        "\n",
        "      loaded+=1\n",
        "\n",
        "      if loaded%100==0:\n",
        "        print(str(loaded)+\" images loaded successfuly !\")\n",
        "    \n",
        "    except:\n",
        "      print(\"Error loading \"+str(os.path.join(paths[i],file_name))+\" !\")\n",
        "\n",
        "faces = np.array(faces)\n",
        "labels = np.array(labels)\n",
        "labels = labels.reshape((labels.shape[0],1))"
      ],
      "execution_count": 0,
      "outputs": []
    },
    {
      "cell_type": "code",
      "metadata": {
        "id": "ezSSJGkwMrbo",
        "colab_type": "code",
        "colab": {}
      },
      "source": [
        "# Set the Hyper-Parameters\n",
        "\n",
        "alpha = 0.0001\n",
        "n_epochs = 5\n",
        "mini_batch_size = 32"
      ],
      "execution_count": 0,
      "outputs": []
    },
    {
      "cell_type": "code",
      "metadata": {
        "id": "x9SxYvmKNQMY",
        "colab_type": "code",
        "colab": {}
      },
      "source": [
        "# Compile the Model\n",
        "\n",
        "opt = Adam(learning_rate=alpha,decay = alpha/n_epochs)\n",
        "mask_classifier.compile(optimizer=opt,loss=\"binary_crossentropy\",metrics = ['accuracy'])"
      ],
      "execution_count": 0,
      "outputs": []
    },
    {
      "cell_type": "code",
      "metadata": {
        "id": "cMaERGXNMtfC",
        "colab_type": "code",
        "colab": {}
      },
      "source": [
        "# Perform Train-Test Split\n",
        "\n",
        "x_train,x_test,y_train,y_test = train_test_split(faces,labels,test_size = 0.2)"
      ],
      "execution_count": 0,
      "outputs": []
    },
    {
      "cell_type": "code",
      "metadata": {
        "id": "rJYKyD5RMvgM",
        "colab_type": "code",
        "colab": {}
      },
      "source": [
        "# Train the Model on the Loaded Data\n",
        "\n",
        "mask_classifier.fit(x_train,y_train,epochs=n_epochs,batch_size=mini_batch_size)"
      ],
      "execution_count": 0,
      "outputs": []
    },
    {
      "cell_type": "code",
      "metadata": {
        "id": "iIEFRNKmMybc",
        "colab_type": "code",
        "colab": {}
      },
      "source": [
        "# Evaluate on Test Set\n",
        "\n",
        "mask_classifier.evaluate(x_test,y_test)"
      ],
      "execution_count": 0,
      "outputs": []
    },
    {
      "cell_type": "code",
      "metadata": {
        "id": "wcZoAtsiMzDX",
        "colab_type": "code",
        "colab": {}
      },
      "source": [
        "# Save the Trained Weights to Disk\n",
        "\n",
        "mask_classifier.save(\"drive/My Drive/Social_Distancing_with_AI/ResNet50_Classifier.h5\")"
      ],
      "execution_count": 0,
      "outputs": []
    }
  ]
}
{
  "nbformat": 4,
  "nbformat_minor": 0,
  "metadata": {
    "colab": {
      "name": "Data_Augmentation.ipynb",
      "provenance": [],
      "collapsed_sections": []
    },
    "kernelspec": {
      "name": "python3",
      "display_name": "Python 3"
    },
    "accelerator": "GPU"
  },
  "cells": [
    {
      "cell_type": "code",
      "metadata": {
        "id": "gHa5o1g6lkVA",
        "colab_type": "code",
        "colab": {}
      },
      "source": [
        "!pip install face-recognition"
      ],
      "execution_count": 0,
      "outputs": []
    },
    {
      "cell_type": "code",
      "metadata": {
        "id": "qp-ywKV_Sc-8",
        "colab_type": "code",
        "colab": {}
      },
      "source": [
        "from google.colab import drive\n",
        "drive.mount(\"drive/\")"
      ],
      "execution_count": 0,
      "outputs": []
    },
    {
      "cell_type": "code",
      "metadata": {
        "id": "SIxRAk1hSmlr",
        "colab_type": "code",
        "colab": {}
      },
      "source": [
        "import cv2\n",
        "import os\n",
        "import numpy as np\n",
        "import matplotlib.pyplot as plt\n",
        "import face_recognition\n",
        "from PIL import Image"
      ],
      "execution_count": 0,
      "outputs": []
    },
    {
      "cell_type": "markdown",
      "metadata": {
        "id": "fcnz6jThCakW",
        "colab_type": "text"
      },
      "source": [
        "## BLURRING EFFECTS ##"
      ]
    },
    {
      "cell_type": "code",
      "metadata": {
        "id": "2Dmr3Z0kCZlL",
        "colab_type": "code",
        "colab": {}
      },
      "source": [
        "motion_blur_kernel_range = (8,12)\n",
        "average_blur_kernel_range = (3,9)\n",
        "gaussian_blur_kernel_range = (3,10)"
      ],
      "execution_count": 0,
      "outputs": []
    },
    {
      "cell_type": "code",
      "metadata": {
        "id": "SuLM_nMaCZr6",
        "colab_type": "code",
        "colab": {}
      },
      "source": [
        "Blurring_Kernels = [\"motion\",\"gaussian\",\"average\"]"
      ],
      "execution_count": 0,
      "outputs": []
    },
    {
      "cell_type": "code",
      "metadata": {
        "id": "0fjXNQkcCmN7",
        "colab_type": "code",
        "colab": {}
      },
      "source": [
        "def motion_blur(img):\n",
        "\n",
        "  kernel_size = np.random.randint(motion_blur_kernel_range[0],motion_blur_kernel_range[1])\n",
        "  kernel = np.zeros((kernel_size, kernel_size))\n",
        "\n",
        "  types = [\"vertical\",\"horizontal\",\"main_diagonal\",\"anti_diagonal\"]\n",
        "\n",
        "  choice = np.random.choice(types)\n",
        "\n",
        "  if choice==\"vertical\":\n",
        "    kernel[:,int((kernel_size-1)/2)] = np.ones(kernel_size)/kernel_size\n",
        "  \n",
        "  elif choice==\"horizontal\":\n",
        "    kernel[int((kernel_size-1)/2),:] = np.ones(kernel_size)/kernel_size\n",
        "  \n",
        "  elif choice==\"main_diagonal\":\n",
        "    \n",
        "    for i in range(kernel_size):\n",
        "      kernel[i][i] = 1/kernel_size\n",
        "\n",
        "  elif choice==\"anti_diagonal\":\n",
        "\n",
        "    for i in range(kernel_size):\n",
        "      kernel[i][kernel_size-i-1] = 1/kernel_size\n",
        "\n",
        "  return cv2.filter2D(face,-1,kernel)"
      ],
      "execution_count": 0,
      "outputs": []
    },
    {
      "cell_type": "code",
      "metadata": {
        "id": "1oV1z5DBCnHU",
        "colab_type": "code",
        "colab": {}
      },
      "source": [
        "def get_blurred_face(face):\n",
        "  \n",
        "  choice = np.random.choice(Blurring_Kernels)\n",
        "\n",
        "  if choice==\"motion\":\n",
        "  \n",
        "    random_blurred_face  = motion_blur(face)\n",
        "\n",
        "  elif choice==\"gaussian\":\n",
        "\n",
        "    kernel_size = np.random.randint(gaussian_blur_kernel_range[0],gaussian_blur_kernel_range[1])\n",
        "\n",
        "    if kernel_size%2==0:\n",
        "      kernel_size-=1\n",
        "    \n",
        "    random_blurred_face = cv2.GaussianBlur(face,(kernel_size,kernel_size),0)\n",
        "\n",
        "  elif choice==\"average\":\n",
        "  \n",
        "    kernel_size = np.random.randint(average_blur_kernel_range[0],average_blur_kernel_range[1])\n",
        "    random_blurred_face = cv2.blur(face,(kernel_size,kernel_size))\n",
        "\n",
        "  return random_blurred_face"
      ],
      "execution_count": 0,
      "outputs": []
    },
    {
      "cell_type": "markdown",
      "metadata": {
        "id": "4QG5TqlkCV80",
        "colab_type": "text"
      },
      "source": [
        "## MASK FACE ##"
      ]
    },
    {
      "cell_type": "code",
      "metadata": {
        "id": "fIG3GVZ8MdUh",
        "colab_type": "code",
        "colab": {}
      },
      "source": [
        "def get_distance_from_point_to_line(point, line_point1, line_point2):\n",
        "\n",
        "        (p,q) = point\n",
        "        (x1,y1) = line_point1\n",
        "        (x2,y2) = line_point2\n",
        "\n",
        "        A = (y2-y1)\n",
        "        B = (x1-x2)\n",
        "        \n",
        "        distance = np.abs( A*p + B*q  - A*x1 - B*y1 ) / np.sqrt( A**2 + B**2 )\n",
        "\n",
        "        return int(distance)"
      ],
      "execution_count": 0,
      "outputs": []
    },
    {
      "cell_type": "code",
      "metadata": {
        "id": "uVOnpVQHMg2K",
        "colab_type": "code",
        "colab": {}
      },
      "source": [
        "def Mask_Face (image_path,mask_image_path):\n",
        "\n",
        "  image = face_recognition.load_image_file(image_path)\n",
        "  mask_img = Image.open(mask_image_path)\n",
        "\n",
        "  face_landmarks = face_recognition.face_landmarks(image)[0]\n",
        "\n",
        "  nose_bridge = face_landmarks['nose_bridge']\n",
        "  nose_point = np.array(nose_bridge[len(nose_bridge) * 1 // 4])\n",
        "\n",
        "  chin = face_landmarks['chin']\n",
        "  chin_len = len(chin)\n",
        "\n",
        "  chin_bottom_point = np.array(chin[chin_len // 2])       \n",
        "  chin_left_point = np.array(chin[chin_len // 8])        \n",
        "  chin_right_point = np.array(chin[chin_len * 7 // 8])"
      ],
      "execution_count": 0,
      "outputs": []
    }
  ]
}
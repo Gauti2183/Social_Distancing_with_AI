{
  "nbformat": 4,
  "nbformat_minor": 0,
  "metadata": {
    "colab": {
      "name": "Data_Augmentation.ipynb",
      "provenance": [],
      "collapsed_sections": []
    },
    "kernelspec": {
      "name": "python3",
      "display_name": "Python 3"
    },
    "accelerator": "GPU"
  },
  "cells": [
    {
      "cell_type": "code",
      "metadata": {
        "id": "gHa5o1g6lkVA",
        "colab_type": "code",
        "colab": {}
      },
      "source": [
        "!pip install face-recognition"
      ],
      "execution_count": 0,
      "outputs": []
    },
    {
      "cell_type": "code",
      "metadata": {
        "id": "qp-ywKV_Sc-8",
        "colab_type": "code",
        "colab": {}
      },
      "source": [
        "from google.colab import drive\n",
        "drive.mount(\"drive/\")"
      ],
      "execution_count": 0,
      "outputs": []
    },
    {
      "cell_type": "code",
      "metadata": {
        "id": "SIxRAk1hSmlr",
        "colab_type": "code",
        "colab": {}
      },
      "source": [
        "import cv2\n",
        "import os\n",
        "import numpy as np\n",
        "import matplotlib.pyplot as plt\n",
        "import face_recognition\n",
        "from PIL import Image"
      ],
      "execution_count": 0,
      "outputs": []
    },
    {
      "cell_type": "code",
      "metadata": {
        "id": "6CsgFBTCqPiO",
        "colab_type": "code",
        "colab": {}
      },
      "source": [
        "image = face_recognition.load_image_file(\"drive/My Drive/Social_Distancing/test.jpg\")\n",
        "face_landmarks = face_recognition.face_landmarks(image)[0]"
      ],
      "execution_count": 0,
      "outputs": []
    },
    {
      "cell_type": "code",
      "metadata": {
        "id": "BKUR5Cc-nrBk",
        "colab_type": "code",
        "colab": {}
      },
      "source": [
        "print(face_landmarks)"
      ],
      "execution_count": 0,
      "outputs": []
    },
    {
      "cell_type": "code",
      "metadata": {
        "id": "y34rG7NHCxGw",
        "colab_type": "code",
        "colab": {}
      },
      "source": [
        "_mask_img = Image.open(\"drive/My Drive/Social_Distancing/blue-mask.png\")"
      ],
      "execution_count": 0,
      "outputs": []
    }
  ]
}
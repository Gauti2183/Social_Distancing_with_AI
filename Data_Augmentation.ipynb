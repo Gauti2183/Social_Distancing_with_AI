{
  "nbformat": 4,
  "nbformat_minor": 0,
  "metadata": {
    "colab": {
      "name": "Data_Augmentation.ipynb",
      "provenance": [],
      "collapsed_sections": []
    },
    "kernelspec": {
      "name": "python3",
      "display_name": "Python 3"
    },
    "accelerator": "GPU"
  },
  "cells": [
    {
      "cell_type": "code",
      "metadata": {
        "id": "qp-ywKV_Sc-8",
        "colab_type": "code",
        "colab": {}
      },
      "source": [
        "# Mount Google Drive (If using Colab)\n",
        "\n",
        "from google.colab import drive\n",
        "drive.mount(\"drive/\")"
      ],
      "execution_count": 0,
      "outputs": []
    },
    {
      "cell_type": "code",
      "metadata": {
        "id": "gHa5o1g6lkVA",
        "colab_type": "code",
        "colab": {}
      },
      "source": [
        "# Install Required Packages from PyPI\n",
        "\n",
        "!pip install face-recognition"
      ],
      "execution_count": 0,
      "outputs": []
    },
    {
      "cell_type": "code",
      "metadata": {
        "id": "SIxRAk1hSmlr",
        "colab_type": "code",
        "colab": {}
      },
      "source": [
        "# Import Required Libraries\n",
        "\n",
        "import cv2\n",
        "import os\n",
        "import numpy as np\n",
        "from PIL import Image\n",
        "import matplotlib.pyplot as plt\n",
        "import face_recognition"
      ],
      "execution_count": 0,
      "outputs": []
    },
    {
      "cell_type": "markdown",
      "metadata": {
        "id": "fcnz6jThCakW",
        "colab_type": "text"
      },
      "source": [
        "## BLURRING EFFECTS ##"
      ]
    },
    {
      "cell_type": "code",
      "metadata": {
        "id": "2Dmr3Z0kCZlL",
        "colab_type": "code",
        "colab": {}
      },
      "source": [
        "# Define Blurring Kernel Size Ranges, a Random Size would be chosen in the Specified Ranges\n",
        "# Greater the Size, Higher is the Blurring Effect (Adjustments can be made according to the needs)\n",
        "\n",
        "motion_blur_kernel_range = (8,12)  \n",
        "average_blur_kernel_range = (3,9)\n",
        "gaussian_blur_kernel_range = (3,10)"
      ],
      "execution_count": 0,
      "outputs": []
    },
    {
      "cell_type": "code",
      "metadata": {
        "id": "SuLM_nMaCZr6",
        "colab_type": "code",
        "colab": {}
      },
      "source": [
        "# Set Blurring Kernels to Use\n",
        "\n",
        "Blurring_Kernels = [\"motion\",\"gaussian\",\"average\"]"
      ],
      "execution_count": 0,
      "outputs": []
    },
    {
      "cell_type": "code",
      "metadata": {
        "id": "0fjXNQkcCmN7",
        "colab_type": "code",
        "colab": {}
      },
      "source": [
        "# Add Motion Blur to an Image in a Random Direction\n",
        "\n",
        "def motion_blur(img):\n",
        "\n",
        "  # Choose a Random Kernel Size\n",
        "  kernel_size = np.random.randint(motion_blur_kernel_range[0],motion_blur_kernel_range[1])\n",
        "  kernel = np.zeros((kernel_size, kernel_size))\n",
        "\n",
        "  # Random Selection of Direction of Motion Blur\n",
        "  types = [\"vertical\",\"horizontal\",\"main_diagonal\",\"anti_diagonal\"]\n",
        "  choice = np.random.choice(types)\n",
        "\n",
        "  if choice==\"vertical\":\n",
        "    kernel[:,int((kernel_size-1)/2)] = np.ones(kernel_size)/kernel_size\n",
        "  \n",
        "  elif choice==\"horizontal\":\n",
        "    kernel[int((kernel_size-1)/2),:] = np.ones(kernel_size)/kernel_size\n",
        "  \n",
        "  elif choice==\"main_diagonal\":\n",
        "    \n",
        "    for i in range(kernel_size):\n",
        "      kernel[i][i] = 1/kernel_size\n",
        "\n",
        "  elif choice==\"anti_diagonal\":\n",
        "\n",
        "    for i in range(kernel_size):\n",
        "      kernel[i][kernel_size-i-1] = 1/kernel_size\n",
        "\n",
        "  # Convolve and Return the Blurred Image\n",
        "  return cv2.filter2D(face,-1,kernel)"
      ],
      "execution_count": 0,
      "outputs": []
    },
    {
      "cell_type": "code",
      "metadata": {
        "id": "1oV1z5DBCnHU",
        "colab_type": "code",
        "colab": {}
      },
      "source": [
        "# Add a Random Blur Effect to an Image with a Random Kernel Size (in the Specified Ranges)\n",
        "\n",
        "def get_blurred_face(face):\n",
        "  \n",
        "  # Randomly choose a Blurring Technique\n",
        "  choice = np.random.choice(Blurring_Kernels)\n",
        "\n",
        "  if choice==\"motion\":\n",
        "  \n",
        "    random_blurred_face  = motion_blur(face)\n",
        "\n",
        "  elif choice==\"gaussian\":\n",
        "\n",
        "    kernel_size = np.random.randint(gaussian_blur_kernel_range[0],gaussian_blur_kernel_range[1])\n",
        "\n",
        "    if kernel_size%2==0:\n",
        "      kernel_size-=1\n",
        "    \n",
        "    random_blurred_face = cv2.GaussianBlur(face,(kernel_size,kernel_size),0)\n",
        "\n",
        "  elif choice==\"average\":\n",
        "  \n",
        "    kernel_size = np.random.randint(average_blur_kernel_range[0],average_blur_kernel_range[1])\n",
        "    random_blurred_face = cv2.blur(face,(kernel_size,kernel_size))\n",
        "\n",
        "  return random_blurred_face"
      ],
      "execution_count": 0,
      "outputs": []
    },
    {
      "cell_type": "markdown",
      "metadata": {
        "id": "4QG5TqlkCV80",
        "colab_type": "text"
      },
      "source": [
        "## MASK FACE ##"
      ]
    },
    {
      "cell_type": "code",
      "metadata": {
        "id": "fIG3GVZ8MdUh",
        "colab_type": "code",
        "colab": {}
      },
      "source": [
        "# Mathematical Function to Return Perpendicular Distance of a Point from a Line\n",
        "\n",
        "def get_distance_from_point_to_line(point, line_point1, line_point2):\n",
        "\n",
        "        (p,q) = point\n",
        "        (x1,y1) = line_point1\n",
        "        (x2,y2) = line_point2\n",
        "\n",
        "        A = (y2-y1)\n",
        "        B = (x1-x2)\n",
        "        \n",
        "        distance = np.abs( A*p + B*q  - A*x1 - B*y1 ) / np.sqrt( A**2 + B**2 )\n",
        "\n",
        "        return int(distance)"
      ],
      "execution_count": 0,
      "outputs": []
    },
    {
      "cell_type": "code",
      "metadata": {
        "id": "GdDTegwCZEpE",
        "colab_type": "code",
        "colab": {}
      },
      "source": [
        "# Mathematical Function to Return Rotated Co-ordinates of a Point around a Reference Point (Origin)\n",
        "\n",
        "def get_point_rotation(point,origin,angle):\n",
        "\n",
        "        (p,q) = point\n",
        "        (x,y) = origin\n",
        "\n",
        "        rotated_p = x + np.cos(angle)*(p-x) - np.sin(angle)*(q-y)\n",
        "        rotated_q = y + np.sin(angle)*(p-x) + np.cos(angle)*(q-y)\n",
        "\n",
        "        return [int(rotated_p),int(rotated_q)]"
      ],
      "execution_count": 0,
      "outputs": []
    },
    {
      "cell_type": "code",
      "metadata": {
        "id": "uVOnpVQHMg2K",
        "colab_type": "code",
        "colab": {}
      },
      "source": [
        "# Function to Wear Mask to the Human Faces found in a given Input Image \n",
        "\n",
        "def Mask_Faces (image_path,mask_image_path):\n",
        "\n",
        "  masked_faces_image = Image.open(image_path)\n",
        "\n",
        "  image = face_recognition.load_image_file(image_path)\n",
        "  mask_img = Image.open(mask_image_path)\n",
        "\n",
        "  # Get Face Landmark Co-ordinates\n",
        "  face_landmarks = face_recognition.face_landmarks(image)\n",
        "\n",
        "  # Return if no Faces found or Required Landmarks not found\n",
        "  if len(face_landmarks)==0:\n",
        "    print(\"No Faces found in \"+image_path.split('/')[-1]+\" !\")\n",
        "\n",
        "  for face in face_landmarks:\n",
        "\n",
        "    if 'nose_bridge' not in face or 'chin' not in face :\n",
        "      continue\n",
        "\n",
        "    # Nose Point (Top of Mask)\n",
        "    nose_bridge = face['nose_bridge']\n",
        "    nose_point = np.array(nose_bridge[len(nose_bridge) * 1 // 4])\n",
        "\n",
        "    chin = face['chin']\n",
        "    chin_len = len(chin)\n",
        "\n",
        "    # Chin Points (Bottom, Left and Right of Mask)\n",
        "    chin_bottom_point = np.array(chin[chin_len // 2])       \n",
        "    chin_left_point = np.array(chin[chin_len // 8])        \n",
        "    chin_right_point = np.array(chin[chin_len * 7 // 8])\n",
        "\n",
        "    # Dimensions for the Mask\n",
        "    width = mask_img.width\n",
        "    height = mask_img.height        \n",
        "    width_ratio = 1.15       \n",
        "    new_mask_height = int(np.linalg.norm(nose_point - chin_bottom_point))\n",
        "\n",
        "    # Prepare Left Half of the Mask with appropriate Size\n",
        "    mask_left_img = mask_img.crop((0, 0, width // 2, height))        \n",
        "    mask_left_width = get_distance_from_point_to_line(chin_left_point, nose_point, chin_bottom_point)        \n",
        "    mask_left_width = int(mask_left_width * width_ratio)        \n",
        "    mask_left_img = mask_left_img.resize((mask_left_width, new_mask_height))\n",
        "        \n",
        "    # Prepare Right Half of the Mask with appropriate Size\n",
        "    mask_right_img = mask_img.crop((width // 2, 0, width, height))        \n",
        "    mask_right_width = get_distance_from_point_to_line(chin_right_point, nose_point, chin_bottom_point)        \n",
        "    mask_right_width = int(mask_right_width * width_ratio)        \n",
        "    mask_right_img = mask_right_img.resize((mask_right_width, new_mask_height))\n",
        "\n",
        "    # Join the 2 Halves to Produce the New Mask Image with the Correct Size\n",
        "    new_mask_size = (mask_left_img.width + mask_right_img.width, new_mask_height)        \n",
        "    new_mask_img = Image.new('RGBA', new_mask_size)        \n",
        "    new_mask_img.paste(mask_left_img, (0, 0), mask_left_img)        \n",
        "    new_mask_img.paste(mask_right_img, (mask_left_img.width, 0), mask_right_img)\n",
        "\n",
        "    # Calculate Angle of Rotation (Tilted Face) and Rotate the Mask\n",
        "    angle_radian = np.arctan2(chin_bottom_point[1] - nose_point[1], chin_bottom_point[0] - nose_point[0])\n",
        "    rotation_angle_radian = (np.pi/2) - angle_radian\n",
        "    rotation_angle_degree = (rotation_angle_radian*180)/np.pi\n",
        "    rotation_center = (mask_left_width,new_mask_height//2)\n",
        "    rotated_mask_img = new_mask_img.rotate(rotation_angle_degree,expand=True,center = rotation_center)\n",
        "\n",
        "    # Calcualate Co-ordinates for Pasting the Mask on the Input Image\n",
        "    center_x = (nose_point[0] + chin_bottom_point[0]) // 2        \n",
        "    center_y = (nose_point[1] + chin_bottom_point[1]) // 2\n",
        "\n",
        "    mask_corner_points = [[center_x - mask_left_width, center_y - (new_mask_height//2)],\n",
        "                          [center_x + mask_right_width, center_y - (new_mask_height//2)],\n",
        "                          [center_x + mask_right_width, center_y + (new_mask_height//2)],\n",
        "                          [center_x - mask_left_width, center_y + (new_mask_height//2)]]\n",
        "\n",
        "    rotated_mask_topleft_corner = np.array([9999,9999])\n",
        "\n",
        "    for point in mask_corner_points:\n",
        "\n",
        "      rotated_mask_topleft_corner = np.minimum(rotated_mask_topleft_corner,\n",
        "                                    get_point_rotation(point,(center_x,center_y),-rotation_angle_radian))\n",
        "\n",
        "    # Paste the Mask on Image and Return it\n",
        "    masked_faces_image.paste(rotated_mask_img,\n",
        "                            (rotated_mask_topleft_corner[0],rotated_mask_topleft_corner[1]),\n",
        "                             rotated_mask_img)\n",
        "\n",
        "    return masked_faces_image"
      ],
      "execution_count": 0,
      "outputs": []
    },
    {
      "cell_type": "code",
      "metadata": {
        "id": "PIm2GEh_Z1mF",
        "colab_type": "code",
        "colab": {}
      },
      "source": [
        "# Function to Mask Faces present in all Images within a directory\n",
        "\n",
        "def Generate_Masked_Images (images_path,save_path,mask_image_path):\n",
        "\n",
        "  # Loop through all the Files\n",
        "  for file_name in os.listdir(images_path):\n",
        "\n",
        "    # Mask and Save in the Specified save_path\n",
        "    try:\n",
        "\n",
        "      masked_face_image = Mask_Faces(os.path.join(images_path,file_name),mask_image_path)\n",
        "      masked_face_image.save(os.path.join(save_path,file_name.split('.')[0]+\"_masked\"+file_name.split('.')[-1]))\n",
        "    \n",
        "    except:\n",
        "      \n",
        "      print(\"Some error encountered in \"+file_name+\" !\")"
      ],
      "execution_count": 0,
      "outputs": []
    },
    {
      "cell_type": "code",
      "metadata": {
        "id": "Lwa-y7asZ5nO",
        "colab_type": "code",
        "colab": {}
      },
      "source": [
        "# Call the Function for a Directory\n",
        "\n",
        "Generate_Masked_Images (\"drive/My Drive/Social_Distancing_with_AI/Training_Data/without_mask\",\n",
        "                        \"drive/My Drive/Social_Distancing_with_AI/Training_Data/Augmented_Data\",\n",
        "                        \"drive/My Drive/Social_Distancing_with_AI/Mask_Images/default_mask.png\")"
      ],
      "execution_count": 0,
      "outputs": []
    }
  ]
}
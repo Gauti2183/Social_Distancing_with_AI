{
  "nbformat": 4,
  "nbformat_minor": 0,
  "metadata": {
    "colab": {
      "name": "Data_Augmentation.ipynb",
      "provenance": [],
      "collapsed_sections": []
    },
    "kernelspec": {
      "name": "python3",
      "display_name": "Python 3"
    },
    "accelerator": "GPU"
  },
  "cells": [
    {
      "cell_type": "code",
      "metadata": {
        "id": "gHa5o1g6lkVA",
        "colab_type": "code",
        "colab": {}
      },
      "source": [
        "!pip install face-recognition"
      ],
      "execution_count": 0,
      "outputs": []
    },
    {
      "cell_type": "code",
      "metadata": {
        "id": "qp-ywKV_Sc-8",
        "colab_type": "code",
        "colab": {}
      },
      "source": [
        "from google.colab import drive\n",
        "drive.mount(\"drive/\")"
      ],
      "execution_count": 0,
      "outputs": []
    },
    {
      "cell_type": "code",
      "metadata": {
        "id": "SIxRAk1hSmlr",
        "colab_type": "code",
        "colab": {}
      },
      "source": [
        "import cv2\n",
        "import os\n",
        "import numpy as np\n",
        "import matplotlib.pyplot as plt\n",
        "import face_recognition\n",
        "from PIL import Image"
      ],
      "execution_count": 0,
      "outputs": []
    },
    {
      "cell_type": "code",
      "metadata": {
        "id": "fIG3GVZ8MdUh",
        "colab_type": "code",
        "colab": {}
      },
      "source": [
        "def get_distance_from_point_to_line(point, line_point1, line_point2):\n",
        "\n",
        "        (p,q) = point\n",
        "        (x1,y1) = line_point1\n",
        "        (x2,y2) = line_point2\n",
        "\n",
        "        A = (y2-y1)\n",
        "        B = (x1-x2)\n",
        "        \n",
        "        distance = np.abs( A*p + B*q  - A*x1 - B*y1 ) / np.sqrt( A**2 + B**2 )\n",
        "\n",
        "        return int(distance)"
      ],
      "execution_count": 0,
      "outputs": []
    },
    {
      "cell_type": "code",
      "metadata": {
        "id": "uVOnpVQHMg2K",
        "colab_type": "code",
        "colab": {}
      },
      "source": [
        "def Mask_Face (image_path,mask_image_path):\n",
        "\n",
        "  image = face_recognition.load_image_file(image_path)\n",
        "  mask_img = Image.open(mask_image_path)\n",
        "\n",
        "  face_landmarks = face_recognition.face_landmarks(image)[0]\n",
        "\n",
        "  nose_bridge = face_landmarks['nose_bridge']\n",
        "  nose_point = np.array(nose_bridge[len(nose_bridge) * 1 // 4])\n",
        "\n",
        "  chin = face_landmarks['chin']\n",
        "  chin_len = len(chin)\n",
        "\n",
        "  chin_bottom_point = np.array(chin[chin_len // 2])       \n",
        "  chin_left_point = np.array(chin[chin_len // 8])        \n",
        "  chin_right_point = np.array(chin[chin_len * 7 // 8])"
      ],
      "execution_count": 0,
      "outputs": []
    }
  ]
}
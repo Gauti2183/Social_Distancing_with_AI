{
  "nbformat": 4,
  "nbformat_minor": 0,
  "metadata": {
    "colab": {
      "name": "Face_Mask_Detection.ipynb",
      "provenance": [],
      "collapsed_sections": []
    },
    "kernelspec": {
      "name": "python3",
      "display_name": "Python 3"
    }
  },
  "cells": [
    {
      "cell_type": "code",
      "metadata": {
        "id": "rETrWaAeu4iv",
        "colab_type": "code",
        "colab": {}
      },
      "source": [
        "from google.colab import drive\n",
        "drive.mount(\"drive\")"
      ],
      "execution_count": 0,
      "outputs": []
    },
    {
      "cell_type": "code",
      "metadata": {
        "id": "K4hzxFx9p0K_",
        "colab_type": "code",
        "colab": {}
      },
      "source": [
        "from keras.applications import resnet50\n",
        "from keras.models import Model\n",
        "from keras.layers import Dense,Dropout,AveragePooling2D,Flatten\n",
        "from keras.preprocessing.image import load_img,img_to_array"
      ],
      "execution_count": 0,
      "outputs": []
    },
    {
      "cell_type": "code",
      "metadata": {
        "id": "WCJEPPGfqK29",
        "colab_type": "code",
        "colab": {}
      },
      "source": [
        "base_network  = resnet50.ResNet50(input_shape = (224,224,3),weights='imagenet',include_top=False)"
      ],
      "execution_count": 0,
      "outputs": []
    },
    {
      "cell_type": "code",
      "metadata": {
        "id": "wSwzjQedqQsr",
        "colab_type": "code",
        "colab": {}
      },
      "source": [
        "classifier_network = base_network.output\n",
        "classifier_network = AveragePooling2D(pool_size=(7, 7),name = \"Average_Pool_Final\")(classifier_network)\n",
        "classifier_network = Flatten(name = \"Flatten_Final\")(classifier_network)\n",
        "classifier_network = Dense(128, activation=\"relu\",name = \"Dense_Final\")(classifier_network)\n",
        "classifier_network = Dropout(0.5,name = \"Dropout_Final\")(classifier_network)\n",
        "classifier_network = Dense(1, activation=\"sigmoid\", name = \"Sigmoid_Classifier\" )(classifier_network)\n",
        "\n",
        "mask_classifier = Model(inputs=base_network.input, outputs=classifier_network)"
      ],
      "execution_count": 0,
      "outputs": []
    },
    {
      "cell_type": "code",
      "metadata": {
        "id": "_ZYhezs8rTHE",
        "colab_type": "code",
        "colab": {}
      },
      "source": [
        "for layer in base_network.layers:\n",
        "  layer.trainaibale = False"
      ],
      "execution_count": 0,
      "outputs": []
    }
  ]
}
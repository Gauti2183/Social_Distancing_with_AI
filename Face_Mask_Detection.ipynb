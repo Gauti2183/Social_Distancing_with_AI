{
  "nbformat": 4,
  "nbformat_minor": 0,
  "metadata": {
    "colab": {
      "name": "Face_Mask_Detection.ipynb",
      "provenance": [],
      "collapsed_sections": []
    },
    "kernelspec": {
      "name": "python3",
      "display_name": "Python 3"
    }
  },
  "cells": [
    {
      "cell_type": "code",
      "metadata": {
        "id": "aokSHhLh4I4T",
        "colab_type": "code",
        "colab": {}
      },
      "source": [
        "!pip install face-detection"
      ],
      "execution_count": 0,
      "outputs": []
    },
    {
      "cell_type": "code",
      "metadata": {
        "id": "rETrWaAeu4iv",
        "colab_type": "code",
        "colab": {}
      },
      "source": [
        "from google.colab import drive\n",
        "drive.mount(\"drive\")"
      ],
      "execution_count": 0,
      "outputs": []
    },
    {
      "cell_type": "code",
      "metadata": {
        "id": "K4hzxFx9p0K_",
        "colab_type": "code",
        "colab": {}
      },
      "source": [
        "from keras.applications import resnet50\n",
        "from keras.models import Model\n",
        "from keras.layers import Dense,Dropout,AveragePooling2D,Flatten\n",
        "from keras.preprocessing.image import load_img,img_to_array\n",
        "from sklearn.model_selection import train_test_split"
      ],
      "execution_count": 0,
      "outputs": []
    },
    {
      "cell_type": "code",
      "metadata": {
        "id": "WCJEPPGfqK29",
        "colab_type": "code",
        "colab": {}
      },
      "source": [
        "base_network  = resnet50.ResNet50(input_shape = (224,224,3),weights='imagenet',include_top=False)"
      ],
      "execution_count": 0,
      "outputs": []
    },
    {
      "cell_type": "code",
      "metadata": {
        "id": "wSwzjQedqQsr",
        "colab_type": "code",
        "colab": {}
      },
      "source": [
        "classifier_network = base_network.output\n",
        "classifier_network = AveragePooling2D(pool_size=(7, 7),name = \"Average_Pool_Final\")(classifier_network)\n",
        "classifier_network = Flatten(name = \"Flatten_Final\")(classifier_network)\n",
        "classifier_network = Dense(128, activation=\"relu\",name = \"Dense_Final\")(classifier_network)\n",
        "classifier_network = Dropout(0.5,name = \"Dropout_Final\")(classifier_network)\n",
        "classifier_network = Dense(1, activation=\"sigmoid\", name = \"Sigmoid_Classifier\" )(classifier_network)\n",
        "\n",
        "mask_classifier = Model(inputs=base_network.input, outputs=classifier_network)"
      ],
      "execution_count": 0,
      "outputs": []
    },
    {
      "cell_type": "code",
      "metadata": {
        "id": "_ZYhezs8rTHE",
        "colab_type": "code",
        "colab": {}
      },
      "source": [
        "for layer in base_network.layers:\n",
        "  layer.trainaibale = False"
      ],
      "execution_count": 0,
      "outputs": []
    },
    {
      "cell_type": "code",
      "metadata": {
        "id": "6ZJlEg8y4Q_2",
        "colab_type": "code",
        "colab": {}
      },
      "source": [
        "Masked_Path = \"drive/My Drive/Social_Distancing/data/with_mask\"\n",
        "UnMasked_Path = \"drive/My Drive/Social_Distancing/data/without_mask\"\n",
        "\n",
        "faces = []\n",
        "labels = []\n",
        "\n",
        "paths = [UnMasked_Path,Masked_Path]\n",
        "\n",
        "loaded = 0 \n",
        "\n",
        "for i in range(2):\n",
        "\n",
        "  for file_name in os.listdir(paths[i]):\n",
        "\n",
        "    try:\n",
        "      \n",
        "      image = cv2.imread(os.path.join(paths[i],file_name))\n",
        "\n",
        "      detections = detector.detect(image[:,:,::-1])\n",
        "\n",
        "      for j in range(len(detections)):\n",
        "    \n",
        "        face = image[int(detections[j][1]):int(detections[j][3]),int(detections[j][0]):int(detections[j][2]),::-1]\n",
        "        face = cv2.resize(face, (224, 224), interpolation=cv2.INTER_NEAREST)\n",
        "        face = resnet50.preprocess_input(face)\n",
        "        faces.append(face)\n",
        "        labels.append(i)\n",
        "\n",
        "      loaded+=1\n",
        "\n",
        "      if loaded%100==0:\n",
        "        print(str(loaded)+\" images loaded successfuly !\")\n",
        "    \n",
        "    except:\n",
        "      print(\"Error loading \"+str(os.path.join(paths[i],file_name))+\" !\")\n",
        "\n",
        "faces = np.array(faces)\n",
        "labels = np.array(labels)"
      ],
      "execution_count": 0,
      "outputs": []
    },
    {
      "cell_type": "code",
      "metadata": {
        "id": "HX9Xa0ajMoOz",
        "colab_type": "code",
        "colab": {}
      },
      "source": [
        "labels = labels.reshape((labels.shape[0],1))"
      ],
      "execution_count": 0,
      "outputs": []
    },
    {
      "cell_type": "code",
      "metadata": {
        "id": "ezSSJGkwMrbo",
        "colab_type": "code",
        "colab": {}
      },
      "source": [
        "alpha = 0.0001\n",
        "n_epochs = 5\n",
        "mini_batch_size = 32"
      ],
      "execution_count": 0,
      "outputs": []
    },
    {
      "cell_type": "code",
      "metadata": {
        "id": "x9SxYvmKNQMY",
        "colab_type": "code",
        "colab": {}
      },
      "source": [
        "opt = Adam(learning_rate=alpha,decay = alpha/n_epochs)\n",
        "mask_classifier.compile(optimizer=opt,loss=\"binary_crossentropy\",metrics = ['accuracy'])"
      ],
      "execution_count": 0,
      "outputs": []
    },
    {
      "cell_type": "code",
      "metadata": {
        "id": "cMaERGXNMtfC",
        "colab_type": "code",
        "colab": {}
      },
      "source": [
        "x_train,x_test,y_train,y_test = train_test_split(faces,labels,test_size = 0.2)"
      ],
      "execution_count": 0,
      "outputs": []
    },
    {
      "cell_type": "code",
      "metadata": {
        "id": "rJYKyD5RMvgM",
        "colab_type": "code",
        "colab": {}
      },
      "source": [
        "mask_classifier.fit(x_train,y_train,epochs=n_epochs,batch_size=mini_batch_size)"
      ],
      "execution_count": 0,
      "outputs": []
    },
    {
      "cell_type": "code",
      "metadata": {
        "id": "iIEFRNKmMybc",
        "colab_type": "code",
        "colab": {}
      },
      "source": [
        "mask_classifier.evaluate(x_test,y_test)"
      ],
      "execution_count": 0,
      "outputs": []
    },
    {
      "cell_type": "code",
      "metadata": {
        "id": "wcZoAtsiMzDX",
        "colab_type": "code",
        "colab": {}
      },
      "source": [
        "mask_classifier.save(\"drive/My Drive/Social_Distancing/trainedWeights.h5\")"
      ],
      "execution_count": 0,
      "outputs": []
    }
  ]
}